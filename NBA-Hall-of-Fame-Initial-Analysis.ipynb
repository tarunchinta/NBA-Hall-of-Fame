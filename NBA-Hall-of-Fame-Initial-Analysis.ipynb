{
 "cells": [
  {
   "cell_type": "code",
   "execution_count": 1,
   "metadata": {},
   "outputs": [],
   "source": [
    "import pandas as pd\n",
    "import numpy as np\n",
    "import matplotlib.pyplot as plt\n",
    "import seaborn as sns\n",
    "sns.set()\n",
    "\n",
    "import pickle"
   ]
  },
  {
   "cell_type": "markdown",
   "metadata": {},
   "source": [
    "# READING DATA"
   ]
  },
  {
   "cell_type": "markdown",
   "metadata": {},
   "source": [
    "## What Does it Take to get into the NBA Hall of Fame?"
   ]
  },
  {
   "cell_type": "code",
   "execution_count": 5,
   "metadata": {},
   "outputs": [
    {
     "name": "stdout",
     "output_type": "stream",
     "text": [
      "<class 'pandas.core.frame.DataFrame'>\n",
      "RangeIndex: 495 entries, 0 to 494\n",
      "Data columns (total 25 columns):\n",
      " #   Column          Non-Null Count  Dtype \n",
      "---  ------          --------------  ----- \n",
      " 0   league          495 non-null    object\n",
      " 1   games           495 non-null    int64 \n",
      " 2   minutes         495 non-null    int64 \n",
      " 3   pts             495 non-null    int64 \n",
      " 4   offReb          495 non-null    int64 \n",
      " 5   defReb          495 non-null    int64 \n",
      " 6   reb             495 non-null    int64 \n",
      " 7   asts            495 non-null    int64 \n",
      " 8   stl             495 non-null    int64 \n",
      " 9   blk             495 non-null    int64 \n",
      " 10  turnover        495 non-null    int64 \n",
      " 11  pf              495 non-null    int64 \n",
      " 12  fga             495 non-null    int64 \n",
      " 13  fgm             495 non-null    int64 \n",
      " 14  fta             495 non-null    int64 \n",
      " 15  ftm             495 non-null    int64 \n",
      " 16  tpa             495 non-null    int64 \n",
      " 17  tpm             495 non-null    int64 \n",
      " 18  totalSeasons    495 non-null    int64 \n",
      " 19  Position        495 non-null    object\n",
      " 20  firstSeason     495 non-null    int64 \n",
      " 21  lastSeason      495 non-null    int64 \n",
      " 22  careerEnded     495 non-null    int64 \n",
      " 23  yrsRetired2004  495 non-null    int64 \n",
      " 24  class           495 non-null    int64 \n",
      "dtypes: int64(23), object(2)\n",
      "memory usage: 96.8+ KB\n"
     ]
    }
   ],
   "source": [
    "file_path = 'data/Hall-of-fame-train.csv'\n",
    "\n",
    "df = pd.read_csv(file_path)\n",
    "\n",
    "df.info()\n"
   ]
  },
  {
   "cell_type": "markdown",
   "metadata": {},
   "source": [
    "# DATA EXPLORATION"
   ]
  },
  {
   "cell_type": "code",
   "execution_count": 6,
   "metadata": {},
   "outputs": [
    {
     "data": {
      "text/html": [
       "<div>\n",
       "<style scoped>\n",
       "    .dataframe tbody tr th:only-of-type {\n",
       "        vertical-align: middle;\n",
       "    }\n",
       "\n",
       "    .dataframe tbody tr th {\n",
       "        vertical-align: top;\n",
       "    }\n",
       "\n",
       "    .dataframe thead th {\n",
       "        text-align: right;\n",
       "    }\n",
       "</style>\n",
       "<table border=\"1\" class=\"dataframe\">\n",
       "  <thead>\n",
       "    <tr style=\"text-align: right;\">\n",
       "      <th></th>\n",
       "      <th>games</th>\n",
       "      <th>minutes</th>\n",
       "      <th>pts</th>\n",
       "      <th>offReb</th>\n",
       "      <th>defReb</th>\n",
       "      <th>reb</th>\n",
       "      <th>asts</th>\n",
       "      <th>stl</th>\n",
       "      <th>blk</th>\n",
       "      <th>turnover</th>\n",
       "      <th>...</th>\n",
       "      <th>fta</th>\n",
       "      <th>ftm</th>\n",
       "      <th>tpa</th>\n",
       "      <th>tpm</th>\n",
       "      <th>totalSeasons</th>\n",
       "      <th>firstSeason</th>\n",
       "      <th>lastSeason</th>\n",
       "      <th>careerEnded</th>\n",
       "      <th>yrsRetired2004</th>\n",
       "      <th>class</th>\n",
       "    </tr>\n",
       "  </thead>\n",
       "  <tbody>\n",
       "    <tr>\n",
       "      <th>count</th>\n",
       "      <td>495.000000</td>\n",
       "      <td>495.000000</td>\n",
       "      <td>495.000000</td>\n",
       "      <td>495.000000</td>\n",
       "      <td>495.000000</td>\n",
       "      <td>495.000000</td>\n",
       "      <td>495.000000</td>\n",
       "      <td>495.000000</td>\n",
       "      <td>495.000000</td>\n",
       "      <td>495.000000</td>\n",
       "      <td>...</td>\n",
       "      <td>495.000000</td>\n",
       "      <td>495.000000</td>\n",
       "      <td>495.000000</td>\n",
       "      <td>495.000000</td>\n",
       "      <td>495.000000</td>\n",
       "      <td>495.000000</td>\n",
       "      <td>495.000000</td>\n",
       "      <td>495.000000</td>\n",
       "      <td>495.000000</td>\n",
       "      <td>495.000000</td>\n",
       "    </tr>\n",
       "    <tr>\n",
       "      <th>mean</th>\n",
       "      <td>279.462626</td>\n",
       "      <td>6892.183838</td>\n",
       "      <td>3249.357576</td>\n",
       "      <td>236.006061</td>\n",
       "      <td>541.729293</td>\n",
       "      <td>1374.705051</td>\n",
       "      <td>731.545455</td>\n",
       "      <td>164.159596</td>\n",
       "      <td>87.652525</td>\n",
       "      <td>291.529293</td>\n",
       "      <td>...</td>\n",
       "      <td>949.022222</td>\n",
       "      <td>713.357576</td>\n",
       "      <td>153.311111</td>\n",
       "      <td>52.395960</td>\n",
       "      <td>5.357576</td>\n",
       "      <td>1974.947475</td>\n",
       "      <td>1979.305051</td>\n",
       "      <td>0.888889</td>\n",
       "      <td>24.694949</td>\n",
       "      <td>0.090909</td>\n",
       "    </tr>\n",
       "    <tr>\n",
       "      <th>std</th>\n",
       "      <td>303.704033</td>\n",
       "      <td>9720.614594</td>\n",
       "      <td>5068.983382</td>\n",
       "      <td>572.440731</td>\n",
       "      <td>1107.931022</td>\n",
       "      <td>2584.368206</td>\n",
       "      <td>1293.869629</td>\n",
       "      <td>299.897575</td>\n",
       "      <td>217.612488</td>\n",
       "      <td>534.446441</td>\n",
       "      <td>...</td>\n",
       "      <td>1578.948315</td>\n",
       "      <td>1185.263900</td>\n",
       "      <td>470.261475</td>\n",
       "      <td>171.280817</td>\n",
       "      <td>4.461647</td>\n",
       "      <td>16.935973</td>\n",
       "      <td>17.555634</td>\n",
       "      <td>0.314588</td>\n",
       "      <td>17.555634</td>\n",
       "      <td>0.287771</td>\n",
       "    </tr>\n",
       "    <tr>\n",
       "      <th>min</th>\n",
       "      <td>1.000000</td>\n",
       "      <td>0.000000</td>\n",
       "      <td>0.000000</td>\n",
       "      <td>0.000000</td>\n",
       "      <td>0.000000</td>\n",
       "      <td>0.000000</td>\n",
       "      <td>0.000000</td>\n",
       "      <td>0.000000</td>\n",
       "      <td>0.000000</td>\n",
       "      <td>0.000000</td>\n",
       "      <td>...</td>\n",
       "      <td>0.000000</td>\n",
       "      <td>0.000000</td>\n",
       "      <td>0.000000</td>\n",
       "      <td>0.000000</td>\n",
       "      <td>1.000000</td>\n",
       "      <td>1946.000000</td>\n",
       "      <td>1946.000000</td>\n",
       "      <td>0.000000</td>\n",
       "      <td>0.000000</td>\n",
       "      <td>0.000000</td>\n",
       "    </tr>\n",
       "    <tr>\n",
       "      <th>25%</th>\n",
       "      <td>46.000000</td>\n",
       "      <td>295.500000</td>\n",
       "      <td>143.000000</td>\n",
       "      <td>0.000000</td>\n",
       "      <td>0.000000</td>\n",
       "      <td>49.500000</td>\n",
       "      <td>29.000000</td>\n",
       "      <td>0.000000</td>\n",
       "      <td>0.000000</td>\n",
       "      <td>0.000000</td>\n",
       "      <td>...</td>\n",
       "      <td>44.500000</td>\n",
       "      <td>29.000000</td>\n",
       "      <td>0.000000</td>\n",
       "      <td>0.000000</td>\n",
       "      <td>1.000000</td>\n",
       "      <td>1963.000000</td>\n",
       "      <td>1968.000000</td>\n",
       "      <td>1.000000</td>\n",
       "      <td>9.000000</td>\n",
       "      <td>0.000000</td>\n",
       "    </tr>\n",
       "    <tr>\n",
       "      <th>50%</th>\n",
       "      <td>151.000000</td>\n",
       "      <td>2132.000000</td>\n",
       "      <td>907.000000</td>\n",
       "      <td>13.000000</td>\n",
       "      <td>51.000000</td>\n",
       "      <td>374.000000</td>\n",
       "      <td>190.000000</td>\n",
       "      <td>16.000000</td>\n",
       "      <td>5.000000</td>\n",
       "      <td>38.000000</td>\n",
       "      <td>...</td>\n",
       "      <td>299.000000</td>\n",
       "      <td>199.000000</td>\n",
       "      <td>2.000000</td>\n",
       "      <td>0.000000</td>\n",
       "      <td>4.000000</td>\n",
       "      <td>1974.000000</td>\n",
       "      <td>1979.000000</td>\n",
       "      <td>1.000000</td>\n",
       "      <td>25.000000</td>\n",
       "      <td>0.000000</td>\n",
       "    </tr>\n",
       "    <tr>\n",
       "      <th>75%</th>\n",
       "      <td>439.000000</td>\n",
       "      <td>10102.500000</td>\n",
       "      <td>4115.000000</td>\n",
       "      <td>240.000000</td>\n",
       "      <td>621.000000</td>\n",
       "      <td>1617.500000</td>\n",
       "      <td>881.500000</td>\n",
       "      <td>186.500000</td>\n",
       "      <td>66.500000</td>\n",
       "      <td>327.000000</td>\n",
       "      <td>...</td>\n",
       "      <td>1077.500000</td>\n",
       "      <td>798.000000</td>\n",
       "      <td>42.000000</td>\n",
       "      <td>9.000000</td>\n",
       "      <td>9.000000</td>\n",
       "      <td>1989.000000</td>\n",
       "      <td>1995.000000</td>\n",
       "      <td>1.000000</td>\n",
       "      <td>36.000000</td>\n",
       "      <td>0.000000</td>\n",
       "    </tr>\n",
       "    <tr>\n",
       "      <th>max</th>\n",
       "      <td>1611.000000</td>\n",
       "      <td>47859.000000</td>\n",
       "      <td>31419.000000</td>\n",
       "      <td>6731.000000</td>\n",
       "      <td>10117.000000</td>\n",
       "      <td>23924.000000</td>\n",
       "      <td>9887.000000</td>\n",
       "      <td>2207.000000</td>\n",
       "      <td>2361.000000</td>\n",
       "      <td>3804.000000</td>\n",
       "      <td>...</td>\n",
       "      <td>11862.000000</td>\n",
       "      <td>8531.000000</td>\n",
       "      <td>3434.000000</td>\n",
       "      <td>1301.000000</td>\n",
       "      <td>21.000000</td>\n",
       "      <td>2004.000000</td>\n",
       "      <td>2004.000000</td>\n",
       "      <td>1.000000</td>\n",
       "      <td>58.000000</td>\n",
       "      <td>1.000000</td>\n",
       "    </tr>\n",
       "  </tbody>\n",
       "</table>\n",
       "<p>8 rows × 23 columns</p>\n",
       "</div>"
      ],
      "text/plain": [
       "             games       minutes           pts       offReb        defReb  \\\n",
       "count   495.000000    495.000000    495.000000   495.000000    495.000000   \n",
       "mean    279.462626   6892.183838   3249.357576   236.006061    541.729293   \n",
       "std     303.704033   9720.614594   5068.983382   572.440731   1107.931022   \n",
       "min       1.000000      0.000000      0.000000     0.000000      0.000000   \n",
       "25%      46.000000    295.500000    143.000000     0.000000      0.000000   \n",
       "50%     151.000000   2132.000000    907.000000    13.000000     51.000000   \n",
       "75%     439.000000  10102.500000   4115.000000   240.000000    621.000000   \n",
       "max    1611.000000  47859.000000  31419.000000  6731.000000  10117.000000   \n",
       "\n",
       "                reb         asts          stl          blk     turnover  ...  \\\n",
       "count    495.000000   495.000000   495.000000   495.000000   495.000000  ...   \n",
       "mean    1374.705051   731.545455   164.159596    87.652525   291.529293  ...   \n",
       "std     2584.368206  1293.869629   299.897575   217.612488   534.446441  ...   \n",
       "min        0.000000     0.000000     0.000000     0.000000     0.000000  ...   \n",
       "25%       49.500000    29.000000     0.000000     0.000000     0.000000  ...   \n",
       "50%      374.000000   190.000000    16.000000     5.000000    38.000000  ...   \n",
       "75%     1617.500000   881.500000   186.500000    66.500000   327.000000  ...   \n",
       "max    23924.000000  9887.000000  2207.000000  2361.000000  3804.000000  ...   \n",
       "\n",
       "                fta          ftm          tpa          tpm  totalSeasons  \\\n",
       "count    495.000000   495.000000   495.000000   495.000000    495.000000   \n",
       "mean     949.022222   713.357576   153.311111    52.395960      5.357576   \n",
       "std     1578.948315  1185.263900   470.261475   171.280817      4.461647   \n",
       "min        0.000000     0.000000     0.000000     0.000000      1.000000   \n",
       "25%       44.500000    29.000000     0.000000     0.000000      1.000000   \n",
       "50%      299.000000   199.000000     2.000000     0.000000      4.000000   \n",
       "75%     1077.500000   798.000000    42.000000     9.000000      9.000000   \n",
       "max    11862.000000  8531.000000  3434.000000  1301.000000     21.000000   \n",
       "\n",
       "       firstSeason   lastSeason  careerEnded  yrsRetired2004       class  \n",
       "count   495.000000   495.000000   495.000000      495.000000  495.000000  \n",
       "mean   1974.947475  1979.305051     0.888889       24.694949    0.090909  \n",
       "std      16.935973    17.555634     0.314588       17.555634    0.287771  \n",
       "min    1946.000000  1946.000000     0.000000        0.000000    0.000000  \n",
       "25%    1963.000000  1968.000000     1.000000        9.000000    0.000000  \n",
       "50%    1974.000000  1979.000000     1.000000       25.000000    0.000000  \n",
       "75%    1989.000000  1995.000000     1.000000       36.000000    0.000000  \n",
       "max    2004.000000  2004.000000     1.000000       58.000000    1.000000  \n",
       "\n",
       "[8 rows x 23 columns]"
      ]
     },
     "execution_count": 6,
     "metadata": {},
     "output_type": "execute_result"
    }
   ],
   "source": [
    "df.describe()"
   ]
  },
  {
   "cell_type": "markdown",
   "metadata": {},
   "source": [
    "There are no missing values\n",
    "There are players that only played one game and didn't get any minutes on the court, which is interesting"
   ]
  },
  {
   "cell_type": "code",
   "execution_count": 12,
   "metadata": {},
   "outputs": [
    {
     "name": "stderr",
     "output_type": "stream",
     "text": [
      "c:\\Users\\tarun\\AppData\\Local\\Programs\\Python\\Python310\\lib\\site-packages\\seaborn\\_oldcore.py:1498: FutureWarning: is_categorical_dtype is deprecated and will be removed in a future version. Use isinstance(dtype, CategoricalDtype) instead\n",
      "  if pd.api.types.is_categorical_dtype(vector):\n",
      "c:\\Users\\tarun\\AppData\\Local\\Programs\\Python\\Python310\\lib\\site-packages\\seaborn\\_oldcore.py:1119: FutureWarning: use_inf_as_na option is deprecated and will be removed in a future version. Convert inf values to NaN before operating instead.\n",
      "  with pd.option_context('mode.use_inf_as_na', True):\n",
      "c:\\Users\\tarun\\AppData\\Local\\Programs\\Python\\Python310\\lib\\site-packages\\seaborn\\_oldcore.py:1498: FutureWarning: is_categorical_dtype is deprecated and will be removed in a future version. Use isinstance(dtype, CategoricalDtype) instead\n",
      "  if pd.api.types.is_categorical_dtype(vector):\n",
      "c:\\Users\\tarun\\AppData\\Local\\Programs\\Python\\Python310\\lib\\site-packages\\seaborn\\_oldcore.py:1119: FutureWarning: use_inf_as_na option is deprecated and will be removed in a future version. Convert inf values to NaN before operating instead.\n",
      "  with pd.option_context('mode.use_inf_as_na', True):\n"
     ]
    },
    {
     "data": {
      "text/plain": [
       "<seaborn.axisgrid.FacetGrid at 0x160d19fb940>"
      ]
     },
     "execution_count": 12,
     "metadata": {},
     "output_type": "execute_result"
    },
    {
     "data": {
      "image/png": "[encoded data removed]",
      "text/plain": [
       "<Figure size 500x500 with 1 Axes>"
      ]
     },
     "metadata": {},
     "output_type": "display_data"
    },
    {
     "data": {
      "image/png": "[encoded data removed]",
      "text/plain": [
       "<Figure size 500x500 with 1 Axes>"
      ]
     },
     "metadata": {},
     "output_type": "display_data"
    }
   ],
   "source": [
    "sns.displot(df['minutes'])\n",
    "sns.displot(df['pts'])"
   ]
  },
  {
   "cell_type": "markdown",
   "metadata": {},
   "source": [
    "A majority of NBA players don't get minutes on the court and also don't score points."
   ]
  },
  {
   "cell_type": "code",
   "execution_count": 8,
   "metadata": {},
   "outputs": [
    {
     "name": "stdout",
     "output_type": "stream",
     "text": [
      "Skewness: 2.855\n",
      "Kurtosis: 6.174\n",
      "count    495.000000\n",
      "mean       0.090909\n",
      "std        0.287771\n",
      "min        0.000000\n",
      "25%        0.000000\n",
      "50%        0.000000\n",
      "75%        0.000000\n",
      "max        1.000000\n",
      "Name: class, dtype: float64\n"
     ]
    },
    {
     "name": "stderr",
     "output_type": "stream",
     "text": [
      "c:\\Users\\tarun\\AppData\\Local\\Programs\\Python\\Python310\\lib\\site-packages\\seaborn\\_oldcore.py:1498: FutureWarning: is_categorical_dtype is deprecated and will be removed in a future version. Use isinstance(dtype, CategoricalDtype) instead\n",
      "  if pd.api.types.is_categorical_dtype(vector):\n",
      "c:\\Users\\tarun\\AppData\\Local\\Programs\\Python\\Python310\\lib\\site-packages\\seaborn\\_oldcore.py:1119: FutureWarning: use_inf_as_na option is deprecated and will be removed in a future version. Convert inf values to NaN before operating instead.\n",
      "  with pd.option_context('mode.use_inf_as_na', True):\n"
     ]
    },
    {
     "data": {
      "text/plain": [
       "<seaborn.axisgrid.FacetGrid at 0x160d24a99c0>"
      ]
     },
     "execution_count": 8,
     "metadata": {},
     "output_type": "execute_result"
    },
    {
     "data": {
      "image/png": "[encoded data removed]",
      "text/plain": [
       "<Figure size 500x500 with 1 Axes>"
      ]
     },
     "metadata": {},
     "output_type": "display_data"
    }
   ],
   "source": [
    "# checking the target variable: class\n",
    "\n",
    "print(\"Skewness: %.3f\" % df['class'].skew())\n",
    "print(\"Kurtosis: %.3f\" % df['class'].kurt())\n",
    "\n",
    "print(df['class'].describe())\n",
    "sns.displot(df['class'])"
   ]
  },
  {
   "cell_type": "markdown",
   "metadata": {},
   "source": [
    "The target variable is binary as expected. \n",
    "A majority of players have a class of 0, meaning they have not entered the NBA Hall of Fame."
   ]
  },
  {
   "cell_type": "code",
   "execution_count": null,
   "metadata": {},
   "outputs": [],
   "source": [
    "#It might make sense to adjust the distribution of the class variable to be more evenly distributed (only for training data, not testing)"
   ]
  }
 ],
 "metadata": {
  "kernelspec": {
   "display_name": "Python 3",
   "language": "python",
   "name": "python3"
  },
  "language_info": {
   "codemirror_mode": {
    "name": "ipython",
    "version": 3
   },
   "file_extension": ".py",
   "mimetype": "text/x-python",
   "name": "python",
   "nbconvert_exporter": "python",
   "pygments_lexer": "ipython3",
   "version": "3.10.5"
  }
 },
 "nbformat": 4,
 "nbformat_minor": 2
}
